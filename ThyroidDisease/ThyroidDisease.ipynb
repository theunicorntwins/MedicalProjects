{
 "cells": [
  {
   "cell_type": "code",
   "execution_count": 87,
   "metadata": {},
   "outputs": [],
   "source": [
    "import warnings\n",
    "warnings.filterwarnings('ignore')"
   ]
  },
  {
   "cell_type": "code",
   "execution_count": 88,
   "metadata": {},
   "outputs": [],
   "source": [
    "import pandas as pd\n",
    "import numpy as np\n",
    "import matplotlib.pyplot as plt\n",
    "import seaborn as sns\n",
    "from sklearn.pipeline import Pipeline\n",
    "from sklearn.model_selection import train_test_split\n",
    "from sklearn.metrics import mean_absolute_error, accuracy_score\n",
    "from sklearn.metrics import confusion_matrix, classification_report\n",
    "from sklearn.metrics import precision_score, recall_score"
   ]
  },
  {
   "cell_type": "markdown",
   "metadata": {},
   "source": [
    "# Thyroid Disease\n",
    "### 1. Get-to-know"
   ]
  },
  {
   "cell_type": "code",
   "execution_count": 89,
   "metadata": {},
   "outputs": [
    {
     "data": {
      "text/html": [
       "<div>\n",
       "<style scoped>\n",
       "    .dataframe tbody tr th:only-of-type {\n",
       "        vertical-align: middle;\n",
       "    }\n",
       "\n",
       "    .dataframe tbody tr th {\n",
       "        vertical-align: top;\n",
       "    }\n",
       "\n",
       "    .dataframe thead th {\n",
       "        text-align: right;\n",
       "    }\n",
       "</style>\n",
       "<table border=\"1\" class=\"dataframe\">\n",
       "  <thead>\n",
       "    <tr style=\"text-align: right;\">\n",
       "      <th></th>\n",
       "      <th>29</th>\n",
       "      <th>F</th>\n",
       "      <th>f</th>\n",
       "      <th>f.1</th>\n",
       "      <th>f.2</th>\n",
       "      <th>f.3</th>\n",
       "      <th>f.4</th>\n",
       "      <th>f.5</th>\n",
       "      <th>f.6</th>\n",
       "      <th>t</th>\n",
       "      <th>...</th>\n",
       "      <th>f.14</th>\n",
       "      <th>?.1</th>\n",
       "      <th>f.15</th>\n",
       "      <th>?.2</th>\n",
       "      <th>f.16</th>\n",
       "      <th>?.3</th>\n",
       "      <th>f.17</th>\n",
       "      <th>?.4</th>\n",
       "      <th>other</th>\n",
       "      <th>-[840801013]</th>\n",
       "    </tr>\n",
       "  </thead>\n",
       "  <tbody>\n",
       "    <tr>\n",
       "      <th>0</th>\n",
       "      <td>29</td>\n",
       "      <td>F</td>\n",
       "      <td>f</td>\n",
       "      <td>f</td>\n",
       "      <td>f</td>\n",
       "      <td>f</td>\n",
       "      <td>f</td>\n",
       "      <td>f</td>\n",
       "      <td>f</td>\n",
       "      <td>f</td>\n",
       "      <td>...</td>\n",
       "      <td>t</td>\n",
       "      <td>128</td>\n",
       "      <td>f</td>\n",
       "      <td>?</td>\n",
       "      <td>f</td>\n",
       "      <td>?</td>\n",
       "      <td>f</td>\n",
       "      <td>?</td>\n",
       "      <td>other</td>\n",
       "      <td>-[840801014]</td>\n",
       "    </tr>\n",
       "    <tr>\n",
       "      <th>1</th>\n",
       "      <td>41</td>\n",
       "      <td>F</td>\n",
       "      <td>f</td>\n",
       "      <td>f</td>\n",
       "      <td>f</td>\n",
       "      <td>f</td>\n",
       "      <td>f</td>\n",
       "      <td>f</td>\n",
       "      <td>f</td>\n",
       "      <td>f</td>\n",
       "      <td>...</td>\n",
       "      <td>f</td>\n",
       "      <td>?</td>\n",
       "      <td>f</td>\n",
       "      <td>?</td>\n",
       "      <td>f</td>\n",
       "      <td>?</td>\n",
       "      <td>t</td>\n",
       "      <td>11</td>\n",
       "      <td>other</td>\n",
       "      <td>-[840801042]</td>\n",
       "    </tr>\n",
       "    <tr>\n",
       "      <th>2</th>\n",
       "      <td>36</td>\n",
       "      <td>F</td>\n",
       "      <td>f</td>\n",
       "      <td>f</td>\n",
       "      <td>f</td>\n",
       "      <td>f</td>\n",
       "      <td>f</td>\n",
       "      <td>f</td>\n",
       "      <td>f</td>\n",
       "      <td>f</td>\n",
       "      <td>...</td>\n",
       "      <td>f</td>\n",
       "      <td>?</td>\n",
       "      <td>f</td>\n",
       "      <td>?</td>\n",
       "      <td>f</td>\n",
       "      <td>?</td>\n",
       "      <td>t</td>\n",
       "      <td>26</td>\n",
       "      <td>other</td>\n",
       "      <td>-[840803046]</td>\n",
       "    </tr>\n",
       "    <tr>\n",
       "      <th>3</th>\n",
       "      <td>32</td>\n",
       "      <td>F</td>\n",
       "      <td>f</td>\n",
       "      <td>f</td>\n",
       "      <td>f</td>\n",
       "      <td>f</td>\n",
       "      <td>f</td>\n",
       "      <td>f</td>\n",
       "      <td>f</td>\n",
       "      <td>f</td>\n",
       "      <td>...</td>\n",
       "      <td>f</td>\n",
       "      <td>?</td>\n",
       "      <td>f</td>\n",
       "      <td>?</td>\n",
       "      <td>f</td>\n",
       "      <td>?</td>\n",
       "      <td>t</td>\n",
       "      <td>36</td>\n",
       "      <td>other</td>\n",
       "      <td>S[840803047]</td>\n",
       "    </tr>\n",
       "    <tr>\n",
       "      <th>4</th>\n",
       "      <td>60</td>\n",
       "      <td>F</td>\n",
       "      <td>f</td>\n",
       "      <td>f</td>\n",
       "      <td>f</td>\n",
       "      <td>f</td>\n",
       "      <td>f</td>\n",
       "      <td>f</td>\n",
       "      <td>f</td>\n",
       "      <td>f</td>\n",
       "      <td>...</td>\n",
       "      <td>f</td>\n",
       "      <td>?</td>\n",
       "      <td>f</td>\n",
       "      <td>?</td>\n",
       "      <td>f</td>\n",
       "      <td>?</td>\n",
       "      <td>t</td>\n",
       "      <td>26</td>\n",
       "      <td>other</td>\n",
       "      <td>-[840803048]</td>\n",
       "    </tr>\n",
       "  </tbody>\n",
       "</table>\n",
       "<p>5 rows × 30 columns</p>\n",
       "</div>"
      ],
      "text/plain": [
       "   29  F  f f.1 f.2 f.3 f.4 f.5 f.6  t  ... f.14  ?.1 f.15 ?.2 f.16 ?.3 f.17  \\\n",
       "0  29  F  f   f   f   f   f   f   f  f  ...    t  128    f   ?    f   ?    f   \n",
       "1  41  F  f   f   f   f   f   f   f  f  ...    f    ?    f   ?    f   ?    t   \n",
       "2  36  F  f   f   f   f   f   f   f  f  ...    f    ?    f   ?    f   ?    t   \n",
       "3  32  F  f   f   f   f   f   f   f  f  ...    f    ?    f   ?    f   ?    t   \n",
       "4  60  F  f   f   f   f   f   f   f  f  ...    f    ?    f   ?    f   ?    t   \n",
       "\n",
       "  ?.4  other  -[840801013]  \n",
       "0   ?  other  -[840801014]  \n",
       "1  11  other  -[840801042]  \n",
       "2  26  other  -[840803046]  \n",
       "3  36  other  S[840803047]  \n",
       "4  26  other  -[840803048]  \n",
       "\n",
       "[5 rows x 30 columns]"
      ]
     },
     "execution_count": 89,
     "metadata": {},
     "output_type": "execute_result"
    }
   ],
   "source": [
    "# loading data\n",
    "file = open(\"thyroid.csv\")\n",
    "thyroid = pd.read_csv(file)\n",
    "\n",
    "# printing the first 5 rows\n",
    "thyroid.head()"
   ]
  },
  {
   "cell_type": "code",
   "execution_count": 90,
   "metadata": {},
   "outputs": [
    {
     "data": {
      "text/plain": [
       "(9171, 30)"
      ]
     },
     "execution_count": 90,
     "metadata": {},
     "output_type": "execute_result"
    }
   ],
   "source": [
    "thyroid.shape"
   ]
  },
  {
   "cell_type": "code",
   "execution_count": 91,
   "metadata": {},
   "outputs": [
    {
     "name": "stdout",
     "output_type": "stream",
     "text": [
      "<class 'pandas.core.frame.DataFrame'>\n",
      "RangeIndex: 9171 entries, 0 to 9170\n",
      "Data columns (total 30 columns):\n",
      " #   Column        Non-Null Count  Dtype \n",
      "---  ------        --------------  ----- \n",
      " 0   29            9171 non-null   int64 \n",
      " 1   F             9171 non-null   object\n",
      " 2   f             9171 non-null   object\n",
      " 3   f.1           9171 non-null   object\n",
      " 4   f.2           9171 non-null   object\n",
      " 5   f.3           9171 non-null   object\n",
      " 6   f.4           9171 non-null   object\n",
      " 7   f.5           9171 non-null   object\n",
      " 8   f.6           9171 non-null   object\n",
      " 9   t             9171 non-null   object\n",
      " 10  f.7           9171 non-null   object\n",
      " 11  f.8           9171 non-null   object\n",
      " 12  f.9           9171 non-null   object\n",
      " 13  f.10          9171 non-null   object\n",
      " 14  f.11          9171 non-null   object\n",
      " 15  f.12          9171 non-null   object\n",
      " 16  t.1           9171 non-null   object\n",
      " 17  0.3           9171 non-null   object\n",
      " 18  f.13          9171 non-null   object\n",
      " 19  ?             9171 non-null   object\n",
      " 20  f.14          9171 non-null   object\n",
      " 21  ?.1           9171 non-null   object\n",
      " 22  f.15          9171 non-null   object\n",
      " 23  ?.2           9171 non-null   object\n",
      " 24  f.16          9171 non-null   object\n",
      " 25  ?.3           9171 non-null   object\n",
      " 26  f.17          9171 non-null   object\n",
      " 27  ?.4           9171 non-null   object\n",
      " 28  other         9171 non-null   object\n",
      " 29  -[840801013]  9171 non-null   object\n",
      "dtypes: int64(1), object(29)\n",
      "memory usage: 2.1+ MB\n"
     ]
    }
   ],
   "source": [
    "thyroid.info()"
   ]
  },
  {
   "cell_type": "markdown",
   "metadata": {},
   "source": [
    "### 2. Clean data"
   ]
  },
  {
   "cell_type": "code",
   "execution_count": 92,
   "metadata": {},
   "outputs": [],
   "source": [
    "thyroid.drop(\"other\", axis=1, inplace=True)"
   ]
  },
  {
   "cell_type": "markdown",
   "metadata": {},
   "source": [
    "#### Add feature name into the data"
   ]
  },
  {
   "cell_type": "code",
   "execution_count": 93,
   "metadata": {},
   "outputs": [],
   "source": [
    "thyroid.columns = ['age', 'sex', 'on thyroxine', 'query on thyroxine',\n",
    "       'on antithyroid medication', 'sick', 'pregnant', 'thyroid surgery',\n",
    "       'I131 treatment', 'query hypothyroid', 'query hyperthyroid', 'lithium',\n",
    "       'goitre', 'tumor', 'hypopituitary', 'psych', 'TSH measured', 'TSH',\n",
    "       'T3 measured', 'T3', 'TT4 measured', 'TT4', 'T4U measured', 'T4U',\n",
    "       'FTI measured', 'FTI', 'TBG measured', 'TBG', 'target']"
   ]
  },
  {
   "cell_type": "markdown",
   "metadata": {},
   "source": [
    "#### Create the target column"
   ]
  },
  {
   "cell_type": "code",
   "execution_count": 94,
   "metadata": {},
   "outputs": [],
   "source": [
    "target = thyroid.target\n",
    "create = target.str.split('([a-zA-Z])+', expand=True)"
   ]
  },
  {
   "cell_type": "code",
   "execution_count": 95,
   "metadata": {},
   "outputs": [
    {
     "data": {
      "text/plain": [
       "array(['Z', 'S', 'F', 'K', 'R', 'I', 'M', 'N', 'G', 'A', 'J', 'L', 'Q',\n",
       "       'C', 'O', 'H', 'D', 'P', 'B', 'E'], dtype=object)"
      ]
     },
     "execution_count": 95,
     "metadata": {},
     "output_type": "execute_result"
    }
   ],
   "source": [
    "create = create[1]\n",
    "target = create.replace({None: 'Z'})\n",
    "thyroid.target = target\n",
    "thyroid.target.unique()"
   ]
  },
  {
   "cell_type": "code",
   "execution_count": 97,
   "metadata": {},
   "outputs": [
    {
     "data": {
      "text/plain": [
       "Z    6770\n",
       "K     553\n",
       "I     359\n",
       "G     359\n",
       "F     233\n",
       "R     196\n",
       "A     147\n",
       "L     115\n",
       "M     111\n",
       "N     110\n",
       "S      85\n",
       "J      43\n",
       "B      21\n",
       "C      18\n",
       "Q      14\n",
       "O      14\n",
       "D       9\n",
       "H       8\n",
       "P       5\n",
       "E       1\n",
       "Name: target, dtype: int64"
      ]
     },
     "execution_count": 97,
     "metadata": {},
     "output_type": "execute_result"
    }
   ],
   "source": [
    "thyroid['target'].value_counts()"
   ]
  },
  {
   "cell_type": "markdown",
   "metadata": {},
   "source": [
    ">The diagnosis consists of a string of letters indicating diagnosed conditions.\n",
    "A diagnosis \"-\" indicates no condition requiring comment.  A diagnosis of the\n",
    "form \"X|Y\" is interpreted as \"consistent with X, but more likely Y\".  The\n",
    "conditions are divided into groups where each group corresponds to a class of\n",
    "comments.\n",
    "\n",
    "\t\tLetter\tDiagnosis\n",
    "\t\t------\t---------\n",
    "\n",
    "\thyperthyroid conditions:\n",
    "\n",
    "\t\tA\thyperthyroid\n",
    "\t\tB\tT3 toxic\n",
    "\t\tC\ttoxic goitre\n",
    "\t\tD\tsecondary toxic\n",
    "\n",
    "\thypothyroid conditions:\n",
    "\n",
    "\t\tE\thypothyroid\n",
    "\t\tF\tprimary hypothyroid\n",
    "\t\tG\tcompensated hypothyroid\n",
    "\t\tH\tsecondary hypothyroid\n",
    "\n",
    "\tbinding protein:\n",
    "\n",
    "\t\tI\tincreased binding protein\n",
    "\t\tJ\tdecreased binding protein\n",
    "\n",
    "\tgeneral health:\n",
    "\n",
    "\t\tK\tconcurrent non-thyroidal illness\n",
    "\n",
    "\treplacement therapy:\n",
    "\n",
    "\t\tL\tconsistent with replacement therapy\n",
    "\t\tM\tunderreplaced\n",
    "\t\tN\toverreplaced\n",
    "\n",
    "\tantithyroid treatment:\n",
    "\n",
    "\t\tO\tantithyroid drugs\n",
    "\t\tP\tI131 treatment\n",
    "\t\tQ\tsurgery\n",
    "\n",
    "\tmiscellaneous:\n",
    "\n",
    "\t\tR\tdiscordant assay results\n",
    "\t\tS\televated TBG\n",
    "\t\tT\televated thyroid hormones\n",
    "\n",
    "In experiments with an earlier version of this archive, decision trees were\n",
    "derived for the most frequent classes of comments, namely\n",
    "\n",
    "\thyperthyroid conditions (A, B, C, D)\n",
    "\thypothyroid conditions (E, F, G, H)\n",
    "\tbinding protein (I, J)\n",
    "\tgeneral health (K)\n",
    "\treplacement therapy (L, M, N)\n",
    "\tdiscordant results (R)"
   ]
  },
  {
   "cell_type": "code",
   "execution_count": 98,
   "metadata": {},
   "outputs": [
    {
     "data": {
      "text/plain": [
       "Text(0, 0.5, 'target')"
      ]
     },
     "execution_count": 98,
     "metadata": {},
     "output_type": "execute_result"
    },
    {
     "data": {
      "image/png": "[encoded data removed]",
      "text/plain": [
       "<Figure size 800x400 with 1 Axes>"
      ]
     },
     "metadata": {},
     "output_type": "display_data"
    }
   ],
   "source": [
    "# Set the width and height of the figure\n",
    "plt.figure(figsize=(8,4))\n",
    "\n",
    "# Add title\n",
    "plt.title(\"The count of 'target'\")\n",
    "\n",
    "# Bar chart\n",
    "sns.barplot(x=thyroid['target'].value_counts().index, y=thyroid['target'].value_counts())\n",
    "\n",
    "# Add label for vertical axis\n",
    "plt.ylabel(\"target\")"
   ]
  },
  {
   "cell_type": "markdown",
   "metadata": {},
   "source": [
    ">The data has got null values by question mark."
   ]
  },
  {
   "cell_type": "code",
   "execution_count": 99,
   "metadata": {},
   "outputs": [
    {
     "data": {
      "text/plain": [
       "age                             0\n",
       "sex                           307\n",
       "on thyroxine                    0\n",
       "query on thyroxine              0\n",
       "on antithyroid medication       0\n",
       "sick                            0\n",
       "pregnant                        0\n",
       "thyroid surgery                 0\n",
       "I131 treatment                  0\n",
       "query hypothyroid               0\n",
       "query hyperthyroid              0\n",
       "lithium                         0\n",
       "goitre                          0\n",
       "tumor                           0\n",
       "hypopituitary                   0\n",
       "psych                           0\n",
       "TSH measured                    0\n",
       "TSH                           842\n",
       "T3 measured                     0\n",
       "T3                           2603\n",
       "TT4 measured                    0\n",
       "TT4                           441\n",
       "T4U measured                    0\n",
       "T4U                           808\n",
       "FTI measured                    0\n",
       "FTI                           801\n",
       "TBG measured                    0\n",
       "TBG                          8822\n",
       "target                          0\n",
       "dtype: int64"
      ]
     },
     "execution_count": 99,
     "metadata": {},
     "output_type": "execute_result"
    }
   ],
   "source": [
    "thyroid = thyroid.replace(['?'], np.nan)\n",
    "thyroid.isnull().sum()"
   ]
  },
  {
   "cell_type": "code",
   "execution_count": 100,
   "metadata": {},
   "outputs": [
    {
     "data": {
      "text/html": [
       "<div>\n",
       "<style scoped>\n",
       "    .dataframe tbody tr th:only-of-type {\n",
       "        vertical-align: middle;\n",
       "    }\n",
       "\n",
       "    .dataframe tbody tr th {\n",
       "        vertical-align: top;\n",
       "    }\n",
       "\n",
       "    .dataframe thead th {\n",
       "        text-align: right;\n",
       "    }\n",
       "</style>\n",
       "<table border=\"1\" class=\"dataframe\">\n",
       "  <thead>\n",
       "    <tr style=\"text-align: right;\">\n",
       "      <th></th>\n",
       "      <th>age</th>\n",
       "      <th>sex</th>\n",
       "      <th>on thyroxine</th>\n",
       "      <th>query on thyroxine</th>\n",
       "      <th>on antithyroid medication</th>\n",
       "      <th>sick</th>\n",
       "      <th>pregnant</th>\n",
       "      <th>thyroid surgery</th>\n",
       "      <th>I131 treatment</th>\n",
       "      <th>query hypothyroid</th>\n",
       "      <th>...</th>\n",
       "      <th>goitre</th>\n",
       "      <th>tumor</th>\n",
       "      <th>hypopituitary</th>\n",
       "      <th>psych</th>\n",
       "      <th>TSH</th>\n",
       "      <th>T3</th>\n",
       "      <th>TT4</th>\n",
       "      <th>T4U</th>\n",
       "      <th>FTI</th>\n",
       "      <th>target</th>\n",
       "    </tr>\n",
       "  </thead>\n",
       "  <tbody>\n",
       "    <tr>\n",
       "      <th>0</th>\n",
       "      <td>29</td>\n",
       "      <td>F</td>\n",
       "      <td>f</td>\n",
       "      <td>f</td>\n",
       "      <td>f</td>\n",
       "      <td>f</td>\n",
       "      <td>f</td>\n",
       "      <td>f</td>\n",
       "      <td>f</td>\n",
       "      <td>f</td>\n",
       "      <td>...</td>\n",
       "      <td>f</td>\n",
       "      <td>f</td>\n",
       "      <td>f</td>\n",
       "      <td>f</td>\n",
       "      <td>1.6</td>\n",
       "      <td>1.9</td>\n",
       "      <td>128</td>\n",
       "      <td>NaN</td>\n",
       "      <td>NaN</td>\n",
       "      <td>Z</td>\n",
       "    </tr>\n",
       "    <tr>\n",
       "      <th>1</th>\n",
       "      <td>41</td>\n",
       "      <td>F</td>\n",
       "      <td>f</td>\n",
       "      <td>f</td>\n",
       "      <td>f</td>\n",
       "      <td>f</td>\n",
       "      <td>f</td>\n",
       "      <td>f</td>\n",
       "      <td>f</td>\n",
       "      <td>f</td>\n",
       "      <td>...</td>\n",
       "      <td>f</td>\n",
       "      <td>f</td>\n",
       "      <td>f</td>\n",
       "      <td>f</td>\n",
       "      <td>NaN</td>\n",
       "      <td>NaN</td>\n",
       "      <td>NaN</td>\n",
       "      <td>NaN</td>\n",
       "      <td>NaN</td>\n",
       "      <td>Z</td>\n",
       "    </tr>\n",
       "    <tr>\n",
       "      <th>2</th>\n",
       "      <td>36</td>\n",
       "      <td>F</td>\n",
       "      <td>f</td>\n",
       "      <td>f</td>\n",
       "      <td>f</td>\n",
       "      <td>f</td>\n",
       "      <td>f</td>\n",
       "      <td>f</td>\n",
       "      <td>f</td>\n",
       "      <td>f</td>\n",
       "      <td>...</td>\n",
       "      <td>f</td>\n",
       "      <td>f</td>\n",
       "      <td>f</td>\n",
       "      <td>f</td>\n",
       "      <td>NaN</td>\n",
       "      <td>NaN</td>\n",
       "      <td>NaN</td>\n",
       "      <td>NaN</td>\n",
       "      <td>NaN</td>\n",
       "      <td>Z</td>\n",
       "    </tr>\n",
       "    <tr>\n",
       "      <th>3</th>\n",
       "      <td>32</td>\n",
       "      <td>F</td>\n",
       "      <td>f</td>\n",
       "      <td>f</td>\n",
       "      <td>f</td>\n",
       "      <td>f</td>\n",
       "      <td>f</td>\n",
       "      <td>f</td>\n",
       "      <td>f</td>\n",
       "      <td>f</td>\n",
       "      <td>...</td>\n",
       "      <td>f</td>\n",
       "      <td>f</td>\n",
       "      <td>f</td>\n",
       "      <td>f</td>\n",
       "      <td>NaN</td>\n",
       "      <td>NaN</td>\n",
       "      <td>NaN</td>\n",
       "      <td>NaN</td>\n",
       "      <td>NaN</td>\n",
       "      <td>S</td>\n",
       "    </tr>\n",
       "    <tr>\n",
       "      <th>4</th>\n",
       "      <td>60</td>\n",
       "      <td>F</td>\n",
       "      <td>f</td>\n",
       "      <td>f</td>\n",
       "      <td>f</td>\n",
       "      <td>f</td>\n",
       "      <td>f</td>\n",
       "      <td>f</td>\n",
       "      <td>f</td>\n",
       "      <td>f</td>\n",
       "      <td>...</td>\n",
       "      <td>f</td>\n",
       "      <td>f</td>\n",
       "      <td>f</td>\n",
       "      <td>f</td>\n",
       "      <td>NaN</td>\n",
       "      <td>NaN</td>\n",
       "      <td>NaN</td>\n",
       "      <td>NaN</td>\n",
       "      <td>NaN</td>\n",
       "      <td>Z</td>\n",
       "    </tr>\n",
       "    <tr>\n",
       "      <th>...</th>\n",
       "      <td>...</td>\n",
       "      <td>...</td>\n",
       "      <td>...</td>\n",
       "      <td>...</td>\n",
       "      <td>...</td>\n",
       "      <td>...</td>\n",
       "      <td>...</td>\n",
       "      <td>...</td>\n",
       "      <td>...</td>\n",
       "      <td>...</td>\n",
       "      <td>...</td>\n",
       "      <td>...</td>\n",
       "      <td>...</td>\n",
       "      <td>...</td>\n",
       "      <td>...</td>\n",
       "      <td>...</td>\n",
       "      <td>...</td>\n",
       "      <td>...</td>\n",
       "      <td>...</td>\n",
       "      <td>...</td>\n",
       "      <td>...</td>\n",
       "    </tr>\n",
       "    <tr>\n",
       "      <th>9166</th>\n",
       "      <td>56</td>\n",
       "      <td>M</td>\n",
       "      <td>f</td>\n",
       "      <td>f</td>\n",
       "      <td>f</td>\n",
       "      <td>f</td>\n",
       "      <td>f</td>\n",
       "      <td>f</td>\n",
       "      <td>f</td>\n",
       "      <td>f</td>\n",
       "      <td>...</td>\n",
       "      <td>f</td>\n",
       "      <td>f</td>\n",
       "      <td>f</td>\n",
       "      <td>f</td>\n",
       "      <td>NaN</td>\n",
       "      <td>NaN</td>\n",
       "      <td>64</td>\n",
       "      <td>0.83</td>\n",
       "      <td>77</td>\n",
       "      <td>Z</td>\n",
       "    </tr>\n",
       "    <tr>\n",
       "      <th>9167</th>\n",
       "      <td>22</td>\n",
       "      <td>M</td>\n",
       "      <td>f</td>\n",
       "      <td>f</td>\n",
       "      <td>f</td>\n",
       "      <td>f</td>\n",
       "      <td>f</td>\n",
       "      <td>f</td>\n",
       "      <td>f</td>\n",
       "      <td>f</td>\n",
       "      <td>...</td>\n",
       "      <td>f</td>\n",
       "      <td>f</td>\n",
       "      <td>f</td>\n",
       "      <td>f</td>\n",
       "      <td>NaN</td>\n",
       "      <td>NaN</td>\n",
       "      <td>91</td>\n",
       "      <td>0.92</td>\n",
       "      <td>99</td>\n",
       "      <td>Z</td>\n",
       "    </tr>\n",
       "    <tr>\n",
       "      <th>9168</th>\n",
       "      <td>69</td>\n",
       "      <td>M</td>\n",
       "      <td>f</td>\n",
       "      <td>f</td>\n",
       "      <td>f</td>\n",
       "      <td>f</td>\n",
       "      <td>f</td>\n",
       "      <td>f</td>\n",
       "      <td>f</td>\n",
       "      <td>f</td>\n",
       "      <td>...</td>\n",
       "      <td>f</td>\n",
       "      <td>f</td>\n",
       "      <td>f</td>\n",
       "      <td>f</td>\n",
       "      <td>NaN</td>\n",
       "      <td>NaN</td>\n",
       "      <td>113</td>\n",
       "      <td>1.27</td>\n",
       "      <td>89</td>\n",
       "      <td>I</td>\n",
       "    </tr>\n",
       "    <tr>\n",
       "      <th>9169</th>\n",
       "      <td>47</td>\n",
       "      <td>F</td>\n",
       "      <td>f</td>\n",
       "      <td>f</td>\n",
       "      <td>f</td>\n",
       "      <td>f</td>\n",
       "      <td>f</td>\n",
       "      <td>f</td>\n",
       "      <td>f</td>\n",
       "      <td>f</td>\n",
       "      <td>...</td>\n",
       "      <td>f</td>\n",
       "      <td>f</td>\n",
       "      <td>f</td>\n",
       "      <td>f</td>\n",
       "      <td>NaN</td>\n",
       "      <td>NaN</td>\n",
       "      <td>75</td>\n",
       "      <td>0.85</td>\n",
       "      <td>88</td>\n",
       "      <td>Z</td>\n",
       "    </tr>\n",
       "    <tr>\n",
       "      <th>9170</th>\n",
       "      <td>31</td>\n",
       "      <td>M</td>\n",
       "      <td>f</td>\n",
       "      <td>f</td>\n",
       "      <td>f</td>\n",
       "      <td>f</td>\n",
       "      <td>f</td>\n",
       "      <td>f</td>\n",
       "      <td>f</td>\n",
       "      <td>t</td>\n",
       "      <td>...</td>\n",
       "      <td>f</td>\n",
       "      <td>f</td>\n",
       "      <td>f</td>\n",
       "      <td>f</td>\n",
       "      <td>NaN</td>\n",
       "      <td>NaN</td>\n",
       "      <td>66</td>\n",
       "      <td>1.02</td>\n",
       "      <td>65</td>\n",
       "      <td>Z</td>\n",
       "    </tr>\n",
       "  </tbody>\n",
       "</table>\n",
       "<p>9171 rows × 22 columns</p>\n",
       "</div>"
      ],
      "text/plain": [
       "      age sex on thyroxine query on thyroxine on antithyroid medication sick  \\\n",
       "0      29   F            f                  f                         f    f   \n",
       "1      41   F            f                  f                         f    f   \n",
       "2      36   F            f                  f                         f    f   \n",
       "3      32   F            f                  f                         f    f   \n",
       "4      60   F            f                  f                         f    f   \n",
       "...   ...  ..          ...                ...                       ...  ...   \n",
       "9166   56   M            f                  f                         f    f   \n",
       "9167   22   M            f                  f                         f    f   \n",
       "9168   69   M            f                  f                         f    f   \n",
       "9169   47   F            f                  f                         f    f   \n",
       "9170   31   M            f                  f                         f    f   \n",
       "\n",
       "     pregnant thyroid surgery I131 treatment query hypothyroid  ... goitre  \\\n",
       "0           f               f              f                 f  ...      f   \n",
       "1           f               f              f                 f  ...      f   \n",
       "2           f               f              f                 f  ...      f   \n",
       "3           f               f              f                 f  ...      f   \n",
       "4           f               f              f                 f  ...      f   \n",
       "...       ...             ...            ...               ...  ...    ...   \n",
       "9166        f               f              f                 f  ...      f   \n",
       "9167        f               f              f                 f  ...      f   \n",
       "9168        f               f              f                 f  ...      f   \n",
       "9169        f               f              f                 f  ...      f   \n",
       "9170        f               f              f                 t  ...      f   \n",
       "\n",
       "     tumor hypopituitary psych  TSH   T3  TT4   T4U  FTI target  \n",
       "0        f             f     f  1.6  1.9  128   NaN  NaN      Z  \n",
       "1        f             f     f  NaN  NaN  NaN   NaN  NaN      Z  \n",
       "2        f             f     f  NaN  NaN  NaN   NaN  NaN      Z  \n",
       "3        f             f     f  NaN  NaN  NaN   NaN  NaN      S  \n",
       "4        f             f     f  NaN  NaN  NaN   NaN  NaN      Z  \n",
       "...    ...           ...   ...  ...  ...  ...   ...  ...    ...  \n",
       "9166     f             f     f  NaN  NaN   64  0.83   77      Z  \n",
       "9167     f             f     f  NaN  NaN   91  0.92   99      Z  \n",
       "9168     f             f     f  NaN  NaN  113  1.27   89      I  \n",
       "9169     f             f     f  NaN  NaN   75  0.85   88      Z  \n",
       "9170     f             f     f  NaN  NaN   66  1.02   65      Z  \n",
       "\n",
       "[9171 rows x 22 columns]"
      ]
     },
     "execution_count": 100,
     "metadata": {},
     "output_type": "execute_result"
    }
   ],
   "source": [
    "thyroid.drop(['TSH measured', 'T3 measured', 'TT4 measured', 'T4U measured',\n",
    "              'FTI measured', 'TBG measured', 'TBG'], axis=1, inplace=True)\n",
    "thyroid"
   ]
  },
  {
   "cell_type": "code",
   "execution_count": 101,
   "metadata": {},
   "outputs": [],
   "source": [
    "thyroid.sex.replace({'F': 2, 'M': 1}, inplace=True)\n",
    "round_values = round(thyroid.sex.mean())\n",
    "thyroid.sex.fillna(round_values, inplace=True)"
   ]
  },
  {
   "cell_type": "code",
   "execution_count": 102,
   "metadata": {},
   "outputs": [
    {
     "data": {
      "text/plain": [
       "age                          0\n",
       "sex                          0\n",
       "on thyroxine                 0\n",
       "query on thyroxine           0\n",
       "on antithyroid medication    0\n",
       "sick                         0\n",
       "pregnant                     0\n",
       "thyroid surgery              0\n",
       "I131 treatment               0\n",
       "query hypothyroid            0\n",
       "query hyperthyroid           0\n",
       "lithium                      0\n",
       "goitre                       0\n",
       "tumor                        0\n",
       "hypopituitary                0\n",
       "psych                        0\n",
       "TSH                          0\n",
       "T3                           0\n",
       "TT4                          0\n",
       "T4U                          0\n",
       "FTI                          0\n",
       "target                       0\n",
       "dtype: int64"
      ]
     },
     "execution_count": 102,
     "metadata": {},
     "output_type": "execute_result"
    }
   ],
   "source": [
    "from sklearn.impute import KNNImputer\n",
    "knn_imputer = KNNImputer(n_neighbors=3)\n",
    "cols = ['TSH', 'T3', 'TT4', 'T4U', 'FTI']\n",
    "for i in cols:\n",
    "   thyroid[i] = knn_imputer.fit_transform(thyroid[[i]])\n",
    "thyroid.isnull().sum()"
   ]
  },
  {
   "cell_type": "code",
   "execution_count": 103,
   "metadata": {},
   "outputs": [],
   "source": [
    "from sklearn.preprocessing import LabelEncoder\n",
    "le = LabelEncoder()\n",
    "cols = thyroid.select_dtypes(include=['object'])"
   ]
  },
  {
   "cell_type": "code",
   "execution_count": 104,
   "metadata": {},
   "outputs": [],
   "source": [
    "for i in cols.columns:\n",
    "    try:\n",
    "        thyroid[i] = le.fit_transform(thyroid[i])\n",
    "    except:\n",
    "        continue"
   ]
  },
  {
   "cell_type": "markdown",
   "metadata": {},
   "source": [
    "### 3. Refine data\n",
    "#### Separating the features & Target"
   ]
  },
  {
   "cell_type": "code",
   "execution_count": 106,
   "metadata": {},
   "outputs": [],
   "source": [
    "X = thyroid.drop('target', axis=1)\n",
    "y = thyroid.target"
   ]
  },
  {
   "cell_type": "code",
   "execution_count": 107,
   "metadata": {},
   "outputs": [
    {
     "data": {
      "text/plain": [
       "(9171, 21)"
      ]
     },
     "execution_count": 107,
     "metadata": {},
     "output_type": "execute_result"
    }
   ],
   "source": [
    "X.shape"
   ]
  },
  {
   "cell_type": "code",
   "execution_count": 108,
   "metadata": {},
   "outputs": [
    {
     "data": {
      "text/plain": [
       "array([19, 18,  5, 10, 17,  8, 12, 13,  6,  0,  9, 11, 16,  2, 14,  7,  3,\n",
       "       15,  1,  4])"
      ]
     },
     "execution_count": 108,
     "metadata": {},
     "output_type": "execute_result"
    }
   ],
   "source": [
    "y.unique()"
   ]
  },
  {
   "cell_type": "markdown",
   "metadata": {},
   "source": [
    "#### Splitting the data to training data & valid data"
   ]
  },
  {
   "cell_type": "code",
   "execution_count": 109,
   "metadata": {},
   "outputs": [],
   "source": [
    "X_train, X_valid, y_train, y_valid = train_test_split(X, y, test_size=0.33, random_state=42)"
   ]
  },
  {
   "cell_type": "markdown",
   "metadata": {},
   "source": [
    "## Model Training"
   ]
  },
  {
   "cell_type": "markdown",
   "metadata": {},
   "source": [
    "### 1. Create model\n"
   ]
  },
  {
   "cell_type": "code",
   "execution_count": 110,
   "metadata": {},
   "outputs": [],
   "source": [
    "from sklearn.linear_model import LogisticRegression\n",
    "from sklearn.naive_bayes import GaussianNB, MultinomialNB\n",
    "from sklearn.neighbors import KNeighborsClassifier\n",
    "from sklearn.tree import DecisionTreeClassifier\n",
    "from sklearn.ensemble import RandomForestClassifier, AdaBoostClassifier\n",
    "from sklearn.svm import SVC\n",
    "from xgboost import XGBClassifier\n",
    "\n",
    "from sklearn.model_selection import cross_val_score"
   ]
  },
  {
   "cell_type": "code",
   "execution_count": 111,
   "metadata": {},
   "outputs": [],
   "source": [
    "models = [LogisticRegression(solver='liblinear'),\n",
    "          MultinomialNB(),\n",
    "          KNeighborsClassifier(),\n",
    "          DecisionTreeClassifier(criterion='entropy'),\n",
    "          RandomForestClassifier(n_estimators=200),\n",
    "          SVC(kernel='linear'),\n",
    "          XGBClassifier()]"
   ]
  },
  {
   "cell_type": "code",
   "execution_count": 112,
   "metadata": {},
   "outputs": [
    {
     "data": {
      "text/plain": [
       "AdaBoostClassifier(base_estimator=DecisionTreeClassifier(criterion='entropy'),\n",
       "                   learning_rate=1)"
      ]
     },
     "execution_count": 112,
     "metadata": {},
     "output_type": "execute_result"
    }
   ],
   "source": [
    "AdaBoostClassifier(n_estimators=50, base_estimator=models[3], learning_rate=1)"
   ]
  },
  {
   "cell_type": "code",
   "execution_count": 113,
   "metadata": {},
   "outputs": [],
   "source": [
    "# CV = 5\n",
    "# cv_df = pd.DataFrame(index=range(CV * len(models)))\n",
    "# entries = []\n",
    "# i = 0\n",
    "# for model in models:\n",
    "#     model_name = model.__class__.__name__\n",
    "#     accuracies = cross_val_score(model, X, y, scoring='accuracy', cv=CV)\n",
    "#     print(accuracies)\n",
    "#     entries.append([model_name, accuracies.mean()])\n",
    "#     i += 1\n",
    "# cv_df = pd.DataFrame(entries, columns=['model_name', 'accuracy'])"
   ]
  },
  {
   "cell_type": "code",
   "execution_count": 114,
   "metadata": {},
   "outputs": [],
   "source": [
    "# cv_df"
   ]
  },
  {
   "cell_type": "code",
   "execution_count": 115,
   "metadata": {},
   "outputs": [],
   "source": [
    "# plt.figure(figsize=(8, 6))\n",
    "# plt.bar(cv_df['model_name'], cv_df['accuracy'], color='orange')\n",
    "# plt.xlabel('model_name')\n",
    "# plt.ylabel('Mean of accuracies')\n",
    "# plt.xticks(rotation='vertical')\n",
    "# plt.title('Accuracies of Algorithms')"
   ]
  },
  {
   "cell_type": "markdown",
   "metadata": {},
   "source": [
    "#### Applying AdaBoost for Decision Tree"
   ]
  },
  {
   "cell_type": "code",
   "execution_count": 116,
   "metadata": {},
   "outputs": [
    {
     "name": "stdout",
     "output_type": "stream",
     "text": [
      "Accuracy scores of the data= [0.92425068 0.92420938 0.92857143 0.91875682 0.92475463]\n"
     ]
    }
   ],
   "source": [
    "model = AdaBoostClassifier(n_estimators=50, base_estimator=models[3], learning_rate=1)\n",
    "print(f'Accuracy scores of the data= {cross_val_score(model, X, y)}')"
   ]
  },
  {
   "cell_type": "markdown",
   "metadata": {},
   "source": [
    "#### Training model"
   ]
  },
  {
   "cell_type": "code",
   "execution_count": 117,
   "metadata": {},
   "outputs": [],
   "source": [
    "model.fit(X_train, y_train)\n",
    "y_pred = model.predict(X_valid)"
   ]
  },
  {
   "cell_type": "markdown",
   "metadata": {},
   "source": [
    "### 2. Validate model"
   ]
  },
  {
   "cell_type": "code",
   "execution_count": 118,
   "metadata": {},
   "outputs": [
    {
     "name": "stdout",
     "output_type": "stream",
     "text": [
      "0.584407003633961\n"
     ]
    }
   ],
   "source": [
    "print(mean_absolute_error(y_valid, y_pred))"
   ]
  },
  {
   "cell_type": "markdown",
   "metadata": {},
   "source": [
    "### 3. Evaluate model\n",
    "#### Accuracy Score"
   ]
  },
  {
   "cell_type": "code",
   "execution_count": 119,
   "metadata": {},
   "outputs": [
    {
     "name": "stdout",
     "output_type": "stream",
     "text": [
      "Accuracy score of valid data= 0.9263296993723158\n",
      "Accuracy score of training data= 0.9952799479166666\n"
     ]
    }
   ],
   "source": [
    "print(f'Accuracy score of valid data= {accuracy_score(y_valid, y_pred)}')\n",
    "y_train_pred = model.predict(X_train)\n",
    "print(f'Accuracy score of training data= {accuracy_score(y_train, y_train_pred)}')"
   ]
  },
  {
   "cell_type": "code",
   "execution_count": 120,
   "metadata": {},
   "outputs": [
    {
     "name": "stdout",
     "output_type": "stream",
     "text": [
      "The valid score of valid data= 92.63296993723158%\n",
      "The train score of training data= 99.52799479166666%\n"
     ]
    }
   ],
   "source": [
    "print(f'The valid score of valid data= {model.score(X_valid, y_valid)*100}%')\n",
    "print(f'The train score of training data= {model.score(X_train, y_train)*100}%')"
   ]
  },
  {
   "cell_type": "code",
   "execution_count": 121,
   "metadata": {},
   "outputs": [],
   "source": [
    "dic = {'A': 'hyperthyroid', 'B': 'T3 toxic', 'C': 'toxic goitre', 'D': 'secondary toxic',\n",
    "       'E':\t'hypothyroid', 'F':\t'primary hypothyroid', 'G': 'compensated hypothyroid', 'H': 'secondary hypothyroid',\n",
    "       'I': 'increased binding protein', 'J': 'decreased binding protein',\n",
    "       'K': 'concurrent non-thyroidal illness',\n",
    "       'L':\t'consistent with replacement therapy', 'M': 'underreplaced', 'N': 'overreplaced',\n",
    "       'O':\t'antithyroid drugs', 'P': 'I131 treatment', 'Q': 'surgery',\n",
    "       'R': 'discordant assay results', 'S': 'elevated TBG', 'T': 'elevated thyroid hormones',\n",
    "       'Z': 'None'}"
   ]
  },
  {
   "cell_type": "code",
   "execution_count": 122,
   "metadata": {},
   "outputs": [
    {
     "name": "stdout",
     "output_type": "stream",
     "text": [
      "The result is K with the diagnosis of concurrent non-thyroidal illness in general health.\n",
      "The result is Z with the diagnosis of None.\n",
      "The result is Z with the diagnosis of None.\n",
      "The result is Z with the diagnosis of None.\n",
      "The result is Z with the diagnosis of None.\n",
      "The result is Z with the diagnosis of None.\n",
      "The result is Z with the diagnosis of None.\n",
      "The result is Z with the diagnosis of None.\n",
      "The result is Z with the diagnosis of None.\n"
     ]
    }
   ],
   "source": [
    "input_data = X[2001:2010]\n",
    "prediction = model.predict(input_data)\n",
    "prediction = np.asarray(le.inverse_transform(prediction))\n",
    "for i in dic:\n",
    "    for j in range(len(prediction)):\n",
    "        if (prediction[j] == i):\n",
    "            if i in ['A', 'B', 'C', 'D']:\n",
    "                print(f'The result is {i} with the diagnosis of {dic[i]} in hyperthyroid conditions.')\n",
    "            elif i in ['E', 'F', 'G', 'H']:\n",
    "                print(f'The result is {i} with the diagnosis of {dic[i]} in hypothyroid conditions.')\n",
    "            elif i in ('I', 'J'):\n",
    "                print(f'The result is {i} with the diagnosis of {dic[i]} in binding protein.')\n",
    "            elif i in ('K'):\n",
    "                print(f'The result is {i} with the diagnosis of {dic[i]} in general health.')\n",
    "            elif i in ('L', 'M', 'N'):\n",
    "                print(f'The result is {i} with the diagnosis of {dic[i]} in replacement therapy.')\n",
    "            elif i in ('R'):\n",
    "                print(f'The result is {i} with the diagnosis of {dic[i]} in discordant results.')\n",
    "            else:\n",
    "                print(f'The result is {i} with the diagnosis of {dic[i]}.')\n"
   ]
  },
  {
   "cell_type": "code",
   "execution_count": 123,
   "metadata": {},
   "outputs": [],
   "source": [
    "# for i in dic:\n",
    "#     for j in range(len(prediction)):\n",
    "#         if (prediction[j] == i):\n",
    "#             print(f'The result is {i} with the diagnosis of {dic[i]}.')"
   ]
  },
  {
   "cell_type": "markdown",
   "metadata": {},
   "source": [
    "#### Training model with K-fold"
   ]
  },
  {
   "cell_type": "code",
   "execution_count": 124,
   "metadata": {},
   "outputs": [
    {
     "name": "stdout",
     "output_type": "stream",
     "text": [
      "Accuracy: 93.109% (1.396%)\n"
     ]
    }
   ],
   "source": [
    "from sklearn import model_selection\n",
    "kfold = model_selection.KFold(n_splits=10)\n",
    "results = model_selection.cross_val_score(model, X, y, cv=kfold)\n",
    "print(\"Accuracy: %.3f%% (%.3f%%)\" % (results.mean()*100, results.std()*100))"
   ]
  },
  {
   "cell_type": "code",
   "execution_count": 125,
   "metadata": {},
   "outputs": [
    {
     "data": {
      "text/plain": [
       "array([0.92701525, 0.93456925, 0.91166848, 0.94002181, 0.95310796,\n",
       "       0.94656489, 0.93784079, 0.91057797, 0.91494002, 0.93456925])"
      ]
     },
     "execution_count": 125,
     "metadata": {},
     "output_type": "execute_result"
    }
   ],
   "source": [
    "results"
   ]
  }
 ],
 "metadata": {
  "kernelspec": {
   "display_name": "base",
   "language": "python",
   "name": "python3"
  },
  "language_info": {
   "codemirror_mode": {
    "name": "ipython",
    "version": 3
   },
   "file_extension": ".py",
   "mimetype": "text/x-python",
   "name": "python",
   "nbconvert_exporter": "python",
   "pygments_lexer": "ipython3",
   "version": "3.9.13"
  },
  "orig_nbformat": 4
 },
 "nbformat": 4,
 "nbformat_minor": 2
}
